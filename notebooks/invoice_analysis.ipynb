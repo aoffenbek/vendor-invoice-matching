{
 "cells": [
  {
   "cell_type": "code",
   "execution_count": 1,
   "id": "a959a311-99b0-4086-a7a5-7d77e7898e04",
   "metadata": {},
   "outputs": [
    {
     "name": "stdout",
     "output_type": "stream",
     "text": [
      "         PO_Amount  Invoice_Amount\n",
      "count   500.000000      500.000000\n",
      "mean   2610.887720     2612.026553\n",
      "std    1392.275121     1391.585126\n",
      "min     114.780000      114.780000\n",
      "25%    1396.220000     1397.512500\n",
      "50%    2648.350000     2671.810000\n",
      "75%    3789.235000     3826.295000\n",
      "max    4999.550000     5223.571900\n",
      "Total Mismatched Invoices: 44\n"
     ]
    }
   ],
   "source": [
    "import pandas as pd\n",
    "\n",
    "# Load the dataset\n",
    "df = pd.read_csv(\"../data/invoices.csv\")\n",
    "\n",
    "# Show basic statistics\n",
    "print(df.describe())\n",
    "\n",
    "# Count mismatches\n",
    "print(\"Total Mismatched Invoices:\", (df[\"PO_Amount\"] != df[\"Invoice_Amount\"]).sum())\n"
   ]
  },
  {
   "cell_type": "code",
   "execution_count": null,
   "id": "0904aeb2-307a-4ab8-9d5b-9916e4d139d1",
   "metadata": {},
   "outputs": [],
   "source": []
  }
 ],
 "metadata": {
  "kernelspec": {
   "display_name": "Python 3 (ipykernel)",
   "language": "python",
   "name": "python3"
  },
  "language_info": {
   "codemirror_mode": {
    "name": "ipython",
    "version": 3
   },
   "file_extension": ".py",
   "mimetype": "text/x-python",
   "name": "python",
   "nbconvert_exporter": "python",
   "pygments_lexer": "ipython3",
   "version": "3.12.2"
  }
 },
 "nbformat": 4,
 "nbformat_minor": 5
}
