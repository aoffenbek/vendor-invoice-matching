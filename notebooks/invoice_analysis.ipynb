{
 "cells": [
  {
   "cell_type": "code",
   "execution_count": 1,
   "id": "a959a311-99b0-4086-a7a5-7d77e7898e04",
   "metadata": {},
   "outputs": [
    {
     "name": "stdout",
     "output_type": "stream",
     "text": [
      "         PO_Amount  Invoice_Amount\n",
      "count   500.000000      500.000000\n",
      "mean   2610.887720     2612.026553\n",
      "std    1392.275121     1391.585126\n",
      "min     114.780000      114.780000\n",
      "25%    1396.220000     1397.512500\n",
      "50%    2648.350000     2671.810000\n",
      "75%    3789.235000     3826.295000\n",
      "max    4999.550000     5223.571900\n",
      "Total Mismatched Invoices: 44\n"
     ]
    }
   ],
   "source": [
    "import pandas as pd\n",
    "\n",
    "# Load the dataset\n",
    "df = pd.read_csv(\"../data/invoices.csv\")\n",
    "\n",
    "# Show basic statistics\n",
    "print(df.describe())\n",
    "\n",
    "# Count mismatches\n",
    "print(\"Total Mismatched Invoices:\", (df[\"PO_Amount\"] != df[\"Invoice_Amount\"]).sum())\n"
   ]
  },
  {
   "cell_type": "code",
   "execution_count": 2,
   "id": "0904aeb2-307a-4ab8-9d5b-9916e4d139d1",
   "metadata": {},
   "outputs": [
    {
     "ename": "ModuleNotFoundError",
     "evalue": "No module named 'matplotlib'",
     "output_type": "error",
     "traceback": [
      "\u001b[31m---------------------------------------------------------------------------\u001b[39m",
      "\u001b[31mModuleNotFoundError\u001b[39m                       Traceback (most recent call last)",
      "\u001b[36mCell\u001b[39m\u001b[36m \u001b[39m\u001b[32mIn[2]\u001b[39m\u001b[32m, line 2\u001b[39m\n\u001b[32m      1\u001b[39m \u001b[38;5;28;01mimport\u001b[39;00m\u001b[38;5;250m \u001b[39m\u001b[34;01mpandas\u001b[39;00m\u001b[38;5;250m \u001b[39m\u001b[38;5;28;01mas\u001b[39;00m\u001b[38;5;250m \u001b[39m\u001b[34;01mpd\u001b[39;00m\n\u001b[32m----> \u001b[39m\u001b[32m2\u001b[39m \u001b[38;5;28;01mimport\u001b[39;00m\u001b[38;5;250m \u001b[39m\u001b[34;01mmatplotlib\u001b[39;00m\u001b[34;01m.\u001b[39;00m\u001b[34;01mpyplot\u001b[39;00m\u001b[38;5;250m \u001b[39m\u001b[38;5;28;01mas\u001b[39;00m\u001b[38;5;250m \u001b[39m\u001b[34;01mplt\u001b[39;00m\n\u001b[32m      3\u001b[39m \u001b[38;5;28;01mimport\u001b[39;00m\u001b[38;5;250m \u001b[39m\u001b[34;01mseaborn\u001b[39;00m\u001b[38;5;250m \u001b[39m\u001b[38;5;28;01mas\u001b[39;00m\u001b[38;5;250m \u001b[39m\u001b[34;01msns\u001b[39;00m\n\u001b[32m      5\u001b[39m \u001b[38;5;66;03m# Load datasets\u001b[39;00m\n",
      "\u001b[31mModuleNotFoundError\u001b[39m: No module named 'matplotlib'"
     ]
    }
   ],
   "source": [
    "import pandas as pd\n",
    "import matplotlib.pyplot as plt\n",
    "import seaborn as sns\n",
    "\n",
    "# Load datasets\n",
    "df = pd.read_csv(\"../data/invoices.csv\")\n",
    "mismatches = pd.read_csv(\"../data/mismatched_invoices.csv\")\n",
    "\n",
    "# Count anomaly types\n",
    "anomaly_counts = mismatches[\"Mismatch_Type\"].value_counts()\n",
    "\n",
    "# Bar plot of anomaly types\n",
    "plt.figure(figsize=(6,4))\n",
    "sns.barplot(x=anomaly_counts.index, y=anomaly_counts.values, palette=\"coolwarm\")\n",
    "plt.title(\"Invoice Anomaly Types\")\n",
    "plt.xlabel(\"Mismatch Type\")\n",
    "plt.ylabel(\"Count\")\n",
    "plt.show()\n"
   ]
  },
  {
   "cell_type": "code",
   "execution_count": null,
   "id": "d3f8755f-b303-40ce-bda7-35ec0070d6db",
   "metadata": {},
   "outputs": [],
   "source": []
  }
 ],
 "metadata": {
  "kernelspec": {
   "display_name": "Python 3 (ipykernel)",
   "language": "python",
   "name": "python3"
  },
  "language_info": {
   "codemirror_mode": {
    "name": "ipython",
    "version": 3
   },
   "file_extension": ".py",
   "mimetype": "text/x-python",
   "name": "python",
   "nbconvert_exporter": "python",
   "pygments_lexer": "ipython3",
   "version": "3.12.2"
  }
 },
 "nbformat": 4,
 "nbformat_minor": 5
}
